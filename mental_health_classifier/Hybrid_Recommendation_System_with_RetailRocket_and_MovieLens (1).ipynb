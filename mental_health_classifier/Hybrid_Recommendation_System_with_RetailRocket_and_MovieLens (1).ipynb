{
  "cells": [
    {
      "cell_type": "code",
      "execution_count": 1,
      "metadata": {
        "id": "vLx1eHCFEOkk"
      },
      "outputs": [],
      "source": [
        "import pandas as pd"
      ]
    },
    {
      "cell_type": "code",
      "execution_count": 2,
      "metadata": {
        "id": "5fXoBSuRFKms"
      },
      "outputs": [],
      "source": [
        "# Parse ratings.dat\n",
        "ratings = pd.read_csv(\"/ratings.dat\", sep=\"::\", engine=\"python\",\n",
        "                      names=[\"userId\", \"movieId\", \"rating\", \"timestamp\"],\n",
        "                      encoding='ISO-8859-1')\n",
        "\n",
        "# Parse movies.dat\n",
        "movies = pd.read_csv(\"/movies.dat\", sep=\"::\", engine=\"python\",\n",
        "                     names=[\"movieId\", \"title\", \"genres\"],\n",
        "                     encoding='ISO-8859-1')\n",
        "\n",
        "# Parse users.dat (optional)\n",
        "users = pd.read_csv(\"/users.dat\", sep=\"::\", engine=\"python\",\n",
        "                    names=[\"userId\", \"gender\", \"age\", \"occupation\", \"zip\"],\n",
        "                    encoding='ISO-8859-1')"
      ]
    },
    {
      "cell_type": "code",
      "execution_count": 3,
      "metadata": {
        "id": "82T_rxndF3tG"
      },
      "outputs": [],
      "source": [
        "# Save cleaned ratings and movies to CSV\n",
        "ratings.to_csv(\"ml_ratings_clean.csv\", index=False)\n",
        "movies.to_csv(\"ml_movies_clean.csv\", index=False)\n",
        "users.to_csv(\"ml_users_clean.csv\", index=False)"
      ]
    },
    {
      "cell_type": "code",
      "execution_count": 4,
      "metadata": {
        "id": "mprQCVVvGPlO"
      },
      "outputs": [],
      "source": [
        "# Try loading with correct delimiter and column names\n",
        "events = pd.read_csv(\"/events.csv\")\n",
        "events.columns = [\"timestamp\", \"visitorid\", \"event_type\", \"itemid\", \"transactionid\"]\n",
        "\n",
        "# Load item properties and concatenate both parts\n",
        "props1 = pd.read_csv(\"/item_properties_part1.csv\")\n",
        "props2 = pd.read_csv(\"/item_properties_part2.csv\")\n",
        "item_props = pd.concat([props1, props2])\n",
        "\n",
        "# Load category hierarchy\n",
        "categories = pd.read_csv(\"/category_tree.csv\")"
      ]
    },
    {
      "cell_type": "code",
      "execution_count": 5,
      "metadata": {
        "colab": {
          "base_uri": "https://localhost:8080/",
          "height": 0
        },
        "id": "EbhV5-S3G9NQ",
        "outputId": "b2177477-6b9d-4232-a51f-7a7f112c18e8"
      },
      "outputs": [
        {
          "output_type": "stream",
          "name": "stdout",
          "text": [
            "['timestamp', 'visitorid', 'event_type', 'itemid', 'transactionid']\n"
          ]
        }
      ],
      "source": [
        "print(events.columns.tolist())"
      ]
    },
    {
      "cell_type": "code",
      "execution_count": 6,
      "metadata": {
        "id": "85EzntxcGYSW"
      },
      "outputs": [],
      "source": [
        "# Convert timestamp\n",
        "events[\"timestamp\"] = pd.to_datetime(events[\"timestamp\"], unit='ms')\n",
        "\n",
        "# Filter valid events\n",
        "valid_events = [\"view\", \"addtocart\", \"transaction\"]\n",
        "events = events[events[\"event_type\"].isin(valid_events)]\n",
        "\n",
        "# Map weights\n",
        "event_weights = {\n",
        "    \"view\": 1,\n",
        "    \"addtocart\": 2,\n",
        "    \"transaction\": 3\n",
        "}\n",
        "events[\"event_strength\"] = events[\"event_type\"].map(event_weights)"
      ]
    },
    {
      "cell_type": "code",
      "execution_count": 7,
      "metadata": {
        "id": "ExaFGAcIHYpN"
      },
      "outputs": [],
      "source": [
        "# Aggregate user-item interactions\n",
        "user_item_strength = events.groupby([\"visitorid\", \"itemid\"])[\"event_strength\"].sum().reset_index()\n",
        "user_item_strength.rename(columns={\"visitorid\": \"userId\", \"itemid\": \"itemId\"}, inplace=True)\n",
        "\n",
        "# Save for modeling\n",
        "user_item_strength.to_csv(\"rr_interactions_clean.csv\", index=False)"
      ]
    },
    {
      "cell_type": "code",
      "execution_count": 8,
      "metadata": {
        "id": "BEhjBMbiHjE9"
      },
      "outputs": [],
      "source": [
        "import pandas as pd\n",
        "import numpy as np\n",
        "from scipy.sparse import coo_matrix\n",
        "from lightfm import LightFM\n",
        "from lightfm.evaluation import precision_at_k"
      ]
    },
    {
      "cell_type": "code",
      "execution_count": 9,
      "metadata": {
        "id": "kd5vlU-dHuVD"
      },
      "outputs": [],
      "source": [
        "# Load cleaned interactions\n",
        "interactions = pd.read_csv(\"rr_interactions_clean.csv\")\n",
        "\n",
        "# Encode users and items\n",
        "from sklearn.preprocessing import LabelEncoder\n",
        "\n",
        "user_enc = LabelEncoder()\n",
        "item_enc = LabelEncoder()\n",
        "\n",
        "interactions['user_idx'] = user_enc.fit_transform(interactions['userId'])\n",
        "interactions['item_idx'] = item_enc.fit_transform(interactions['itemId'])\n",
        "\n",
        "# Save mappings (optional, if deploying later)\n",
        "user_id_map = dict(zip(interactions['userId'], interactions['user_idx']))\n",
        "item_id_map = dict(zip(interactions['itemId'], interactions['item_idx']))"
      ]
    },
    {
      "cell_type": "code",
      "execution_count": 10,
      "metadata": {
        "id": "qzaPjYlpH4bX"
      },
      "outputs": [],
      "source": [
        "# Build sparse matrix (user x item) with event_strength as value\n",
        "n_users = interactions['user_idx'].nunique()\n",
        "n_items = interactions['item_idx'].nunique()\n",
        "\n",
        "sparse_matrix = coo_matrix(\n",
        "    (interactions['event_strength'],\n",
        "     (interactions['user_idx'], interactions['item_idx'])),\n",
        "    shape=(n_users, n_items)\n",
        ")"
      ]
    },
    {
      "cell_type": "code",
      "execution_count": 11,
      "metadata": {
        "colab": {
          "base_uri": "https://localhost:8080/",
          "height": 0
        },
        "id": "x6pA5joIH8tp",
        "outputId": "84cbf242-2fde-4550-e81f-d83798284b26"
      },
      "outputs": [
        {
          "output_type": "execute_result",
          "data": {
            "text/plain": [
              "<lightfm.lightfm.LightFM at 0x78be804fee10>"
            ]
          },
          "metadata": {},
          "execution_count": 11
        }
      ],
      "source": [
        "# Train a LightFM model on implicit feedback using WARP loss\n",
        "model = LightFM(loss='warp')\n",
        "model.fit(sparse_matrix, epochs=10, num_threads=2)"
      ]
    },
    {
      "cell_type": "code",
      "execution_count": null,
      "metadata": {
        "colab": {
          "background_save": true
        },
        "id": "P1IMmafTIhMh",
        "outputId": "014f3446-7f80-46ac-ba75-3b7edf79decc"
      },
      "outputs": [
        {
          "name": "stdout",
          "output_type": "stream",
          "text": [
            "Precision@5: 0.0086\n"
          ]
        }
      ],
      "source": [
        "# Evaluate precision at K\n",
        "precision = precision_at_k(model, sparse_matrix, k=5).mean()\n",
        "print(f\"Precision@5: {precision:.4f}\")"
      ]
    },
    {
      "cell_type": "code",
      "execution_count": 12,
      "metadata": {
        "colab": {
          "base_uri": "https://localhost:8080/",
          "height": 0
        },
        "id": "ZFSaW95BTTaq",
        "outputId": "ef3dae5e-f1ba-40d0-aa2c-4fdc61b2a641"
      },
      "outputs": [
        {
          "output_type": "stream",
          "name": "stdout",
          "text": [
            "Top recommendations (item IDs): [461686 142466 394678 312728  12217]\n"
          ]
        }
      ],
      "source": [
        "def recommend_items(model, user_index, sparse_matrix, item_encoder, n=5):\n",
        "    scores = model.predict(user_index, np.arange(sparse_matrix.shape[1]))\n",
        "    top_items = np.argsort(-scores)[:n]\n",
        "    return item_encoder.inverse_transform(top_items)\n",
        "\n",
        "# Example: Recommend for user index 10\n",
        "recommended = recommend_items(model, user_index=10, sparse_matrix=sparse_matrix, item_encoder=item_enc)\n",
        "print(\"Top recommendations (item IDs):\", recommended)"
      ]
    },
    {
      "cell_type": "code",
      "source": [
        "# Re-load and combine item properties\n",
        "props1 = pd.read_csv(\"/item_properties_part1.csv\")\n",
        "props2 = pd.read_csv(\"/item_properties_part2.csv\")\n",
        "item_props = pd.concat([props1, props2])\n",
        "\n",
        "# Filter to only category values\n",
        "item_categories = item_props[item_props[\"property\"] == \"categoryid\"]\n",
        "\n",
        "# Drop duplicates: one category per item (latest timestamp)\n",
        "item_categories.sort_values(\"timestamp\", ascending=False, inplace=True)\n",
        "item_categories = item_categories.drop_duplicates(subset=[\"itemid\"])\n",
        "item_categories = item_categories[[\"itemid\", \"value\"]].rename(columns={\"value\": \"categoryid\"})\n",
        "\n",
        "# Ensure this matches the item_cat_ohe row order\n",
        "itemid_encoded = item_categories[\"itemid\"].values\n",
        "\n",
        "# Build the index maps\n",
        "itemid_to_index = {item_id: idx for idx, item_id in enumerate(itemid_encoded)}\n",
        "index_to_itemid = {idx: item_id for item_id, idx in itemid_to_index.items()}\n"
      ],
      "metadata": {
        "colab": {
          "base_uri": "https://localhost:8080/",
          "height": 0
        },
        "id": "5wayxg9t4MmI",
        "outputId": "72814c4e-1eba-49eb-c64a-7266a201c9f8"
      },
      "execution_count": 13,
      "outputs": [
        {
          "output_type": "stream",
          "name": "stderr",
          "text": [
            "<ipython-input-13-de905f0ef63b>:10: SettingWithCopyWarning: \n",
            "A value is trying to be set on a copy of a slice from a DataFrame\n",
            "\n",
            "See the caveats in the documentation: https://pandas.pydata.org/pandas-docs/stable/user_guide/indexing.html#returning-a-view-versus-a-copy\n",
            "  item_categories.sort_values(\"timestamp\", ascending=False, inplace=True)\n"
          ]
        }
      ]
    },
    {
      "cell_type": "code",
      "source": [
        "from sklearn.preprocessing import OneHotEncoder\n",
        "\n",
        "enc = OneHotEncoder()\n",
        "item_cat_ohe = enc.fit_transform(item_categories[[\"categoryid\"]])\n",
        "\n",
        "# Map itemid to encoded category vector\n",
        "itemid_encoded = item_categories[\"itemid\"].values"
      ],
      "metadata": {
        "id": "85pkY-DL4bJq"
      },
      "execution_count": 14,
      "outputs": []
    },
    {
      "cell_type": "code",
      "source": [
        "from scipy.sparse import csr_matrix\n",
        "\n",
        "user_profiles = {}\n",
        "\n",
        "for user_id, group in interactions.groupby(\"userId\"):\n",
        "    item_ids = group[\"itemId\"].values\n",
        "    valid_idxs = [itemid_to_index[i] for i in item_ids if i in itemid_to_index]\n",
        "\n",
        "    if not valid_idxs:\n",
        "        continue\n",
        "\n",
        "    # Initialize sparse sum\n",
        "    sum_vec = csr_matrix((1, item_cat_ohe.shape[1]))\n",
        "\n",
        "    for idx in valid_idxs:\n",
        "        sum_vec += item_cat_ohe[idx]\n",
        "\n",
        "    avg_vec = sum_vec / len(valid_idxs)\n",
        "    user_profiles[user_id] = avg_vec"
      ],
      "metadata": {
        "id": "sffBF5yv4fr6"
      },
      "execution_count": 15,
      "outputs": []
    },
    {
      "cell_type": "code",
      "source": [
        "from sklearn.metrics.pairwise import cosine_similarity\n",
        "import numpy as np\n",
        "\n",
        "def recommend_content_based(user_id, top_n=5):\n",
        "    if user_id not in user_profiles:\n",
        "        return []\n",
        "\n",
        "    user_vec = user_profiles[user_id]\n",
        "    sims = cosine_similarity(user_vec, item_cat_ohe).flatten()\n",
        "    top_indices = sims.argsort()[::-1]\n",
        "\n",
        "    # Exclude items the user already interacted with\n",
        "    seen = set(interactions[interactions[\"userId\"] == user_id][\"itemId\"])\n",
        "    recs = []\n",
        "    for idx in top_indices:\n",
        "        item_id = index_to_itemid[idx]\n",
        "        if item_id not in seen:\n",
        "            recs.append(item_id)\n",
        "        if len(recs) >= top_n:\n",
        "            break\n",
        "    return recs\n",
        "\n",
        "# Example: Recommend for userId = 12345\n",
        "recommend_content_based(12345)\n"
      ],
      "metadata": {
        "colab": {
          "base_uri": "https://localhost:8080/",
          "height": 0
        },
        "id": "bA5MnKeF4yyq",
        "outputId": "ed8a4cbd-7b8f-44a8-c306-3aeffb86b510"
      },
      "execution_count": 16,
      "outputs": [
        {
          "output_type": "execute_result",
          "data": {
            "text/plain": [
              "[]"
            ]
          },
          "metadata": {},
          "execution_count": 16
        }
      ]
    },
    {
      "cell_type": "code",
      "source": [
        "def get_cf_scores(model, user_idx, num_items):\n",
        "    return model.predict(user_idx, np.arange(num_items))"
      ],
      "metadata": {
        "id": "mCnAG_7D40HV"
      },
      "execution_count": 17,
      "outputs": []
    },
    {
      "cell_type": "code",
      "source": [
        "from sklearn.metrics.pairwise import cosine_similarity\n",
        "import numpy as np\n",
        "\n",
        "def get_content_scores(user_id):\n",
        "    if user_id not in user_profiles:\n",
        "        return np.zeros(item_cat_ohe.shape[0])\n",
        "\n",
        "    user_vec = user_profiles[user_id]\n",
        "    sims = cosine_similarity(user_vec, item_cat_ohe).flatten()\n",
        "    return sims\n"
      ],
      "metadata": {
        "id": "aOXigi4w5RxA"
      },
      "execution_count": 18,
      "outputs": []
    },
    {
      "cell_type": "code",
      "source": [
        "def hybrid_recommend(user_id, alpha=0.7, top_n=5):\n",
        "    user_idx = user_id_map.get(user_id)\n",
        "    if user_idx is None:\n",
        "        return []\n",
        "\n",
        "    # Get LightFM scores\n",
        "    cf_scores = model.predict(user_idx, np.arange(sparse_matrix.shape[1]))\n",
        "\n",
        "    # Get item index → itemId map\n",
        "    item_indices = np.arange(len(cf_scores))\n",
        "    item_ids_cf = item_enc.inverse_transform(item_indices)\n",
        "\n",
        "    # Get content scores (aligned by itemId)\n",
        "    content_scores = get_content_scores(user_id)\n",
        "\n",
        "    matched_scores = np.zeros_like(cf_scores)\n",
        "    for idx in range(len(cf_scores)):\n",
        "        item_id = item_ids_cf[idx]\n",
        "        content_idx = itemid_to_index.get(item_id)\n",
        "        if content_idx is not None:\n",
        "            matched_scores[idx] = content_scores[content_idx]\n",
        "\n",
        "    final_scores = alpha * cf_scores + (1 - alpha) * matched_scores\n",
        "    top_indices = final_scores.argsort()[::-1][:top_n]\n",
        "\n",
        "    return item_enc.inverse_transform(top_indices)"
      ],
      "metadata": {
        "id": "RJXA3Ptz5TeP"
      },
      "execution_count": 19,
      "outputs": []
    },
    {
      "cell_type": "code",
      "source": [
        "interactions = pd.read_csv(\"rr_interactions_clean.csv\")\n",
        "interactions = interactions.sort_values(\"userId\")  # Just to group nicely\n",
        "\n",
        "# Convert timestamp again if needed\n",
        "events = pd.read_csv(\"/events.csv\")\n",
        "events[\"timestamp\"] = pd.to_datetime(events[\"timestamp\"], unit='ms')\n",
        "interactions = interactions.merge(events[[\"visitorid\", \"itemid\", \"timestamp\"]],\n",
        "                                  left_on=[\"userId\", \"itemId\"],\n",
        "                                  right_on=[\"visitorid\", \"itemid\"],\n",
        "                                  how=\"left\")\n",
        "\n",
        "# Sort by time and split: 80% train, 20% test (per user)\n",
        "train_set = []\n",
        "test_set = []\n",
        "\n",
        "for uid, group in interactions.groupby(\"userId\"):\n",
        "    group = group.sort_values(\"timestamp\")\n",
        "    n = len(group)\n",
        "    if n < 5:  # skip users with too few interactions\n",
        "        continue\n",
        "    cutoff = int(n * 0.8)\n",
        "    train_set.append(group.iloc[:cutoff])\n",
        "    test_set.append(group.iloc[cutoff:])\n",
        "\n",
        "train_df = pd.concat(train_set)\n",
        "test_df = pd.concat(test_set)"
      ],
      "metadata": {
        "id": "gv9Im4sOBOEO"
      },
      "execution_count": 21,
      "outputs": []
    },
    {
      "cell_type": "code",
      "source": [
        "def precision_recall_at_k(user_id, k=5):\n",
        "    true_items = test_df[test_df[\"userId\"] == user_id][\"itemId\"].tolist()\n",
        "    if not true_items:\n",
        "        return None, None\n",
        "\n",
        "    recs = hybrid_recommend(user_id, top_n=k)\n",
        "    if recs is None or len(recs) == 0:\n",
        "        return 0.0, 0.0\n",
        "\n",
        "    hits = len(set(true_items) & set(recs))\n",
        "    precision = hits / k\n",
        "    recall = hits / len(true_items)\n",
        "    return precision, recall"
      ],
      "metadata": {
        "id": "iB26H5lhBaFu"
      },
      "execution_count": 22,
      "outputs": []
    },
    {
      "cell_type": "code",
      "source": [
        "precisions = []\n",
        "recalls = []\n",
        "\n",
        "for uid in test_df[\"userId\"].unique():\n",
        "    p, r = precision_recall_at_k(uid, k=5)\n",
        "    if p is not None:\n",
        "        precisions.append(p)\n",
        "        recalls.append(r)\n",
        "\n",
        "print(f\"Hybrid Precision@5: {np.mean(precisions):.4f}\")\n",
        "print(f\"Hybrid Recall@5: {np.mean(recalls):.4f}\")"
      ],
      "metadata": {
        "colab": {
          "base_uri": "https://localhost:8080/",
          "height": 371
        },
        "id": "w398DU9YBo_q",
        "outputId": "fb77b7b5-8978-4c12-b64d-24f7e660adaf"
      },
      "execution_count": 23,
      "outputs": [
        {
          "output_type": "error",
          "ename": "KeyboardInterrupt",
          "evalue": "",
          "traceback": [
            "\u001b[0;31m---------------------------------------------------------------------------\u001b[0m",
            "\u001b[0;31mKeyboardInterrupt\u001b[0m                         Traceback (most recent call last)",
            "\u001b[0;32m<ipython-input-23-c7550703381e>\u001b[0m in \u001b[0;36m<cell line: 0>\u001b[0;34m()\u001b[0m\n\u001b[1;32m      3\u001b[0m \u001b[0;34m\u001b[0m\u001b[0m\n\u001b[1;32m      4\u001b[0m \u001b[0;32mfor\u001b[0m \u001b[0muid\u001b[0m \u001b[0;32min\u001b[0m \u001b[0mtest_df\u001b[0m\u001b[0;34m[\u001b[0m\u001b[0;34m\"userId\"\u001b[0m\u001b[0;34m]\u001b[0m\u001b[0;34m.\u001b[0m\u001b[0munique\u001b[0m\u001b[0;34m(\u001b[0m\u001b[0;34m)\u001b[0m\u001b[0;34m:\u001b[0m\u001b[0;34m\u001b[0m\u001b[0;34m\u001b[0m\u001b[0m\n\u001b[0;32m----> 5\u001b[0;31m     \u001b[0mp\u001b[0m\u001b[0;34m,\u001b[0m \u001b[0mr\u001b[0m \u001b[0;34m=\u001b[0m \u001b[0mprecision_recall_at_k\u001b[0m\u001b[0;34m(\u001b[0m\u001b[0muid\u001b[0m\u001b[0;34m,\u001b[0m \u001b[0mk\u001b[0m\u001b[0;34m=\u001b[0m\u001b[0;36m5\u001b[0m\u001b[0;34m)\u001b[0m\u001b[0;34m\u001b[0m\u001b[0;34m\u001b[0m\u001b[0m\n\u001b[0m\u001b[1;32m      6\u001b[0m     \u001b[0;32mif\u001b[0m \u001b[0mp\u001b[0m \u001b[0;32mis\u001b[0m \u001b[0;32mnot\u001b[0m \u001b[0;32mNone\u001b[0m\u001b[0;34m:\u001b[0m\u001b[0;34m\u001b[0m\u001b[0;34m\u001b[0m\u001b[0m\n\u001b[1;32m      7\u001b[0m         \u001b[0mprecisions\u001b[0m\u001b[0;34m.\u001b[0m\u001b[0mappend\u001b[0m\u001b[0;34m(\u001b[0m\u001b[0mp\u001b[0m\u001b[0;34m)\u001b[0m\u001b[0;34m\u001b[0m\u001b[0;34m\u001b[0m\u001b[0m\n",
            "\u001b[0;32m<ipython-input-22-4d7bc9623b6f>\u001b[0m in \u001b[0;36mprecision_recall_at_k\u001b[0;34m(user_id, k)\u001b[0m\n\u001b[1;32m      4\u001b[0m         \u001b[0;32mreturn\u001b[0m \u001b[0;32mNone\u001b[0m\u001b[0;34m,\u001b[0m \u001b[0;32mNone\u001b[0m\u001b[0;34m\u001b[0m\u001b[0;34m\u001b[0m\u001b[0m\n\u001b[1;32m      5\u001b[0m \u001b[0;34m\u001b[0m\u001b[0m\n\u001b[0;32m----> 6\u001b[0;31m     \u001b[0mrecs\u001b[0m \u001b[0;34m=\u001b[0m \u001b[0mhybrid_recommend\u001b[0m\u001b[0;34m(\u001b[0m\u001b[0muser_id\u001b[0m\u001b[0;34m,\u001b[0m \u001b[0mtop_n\u001b[0m\u001b[0;34m=\u001b[0m\u001b[0mk\u001b[0m\u001b[0;34m)\u001b[0m\u001b[0;34m\u001b[0m\u001b[0;34m\u001b[0m\u001b[0m\n\u001b[0m\u001b[1;32m      7\u001b[0m     \u001b[0;32mif\u001b[0m \u001b[0mrecs\u001b[0m \u001b[0;32mis\u001b[0m \u001b[0;32mNone\u001b[0m \u001b[0;32mor\u001b[0m \u001b[0mlen\u001b[0m\u001b[0;34m(\u001b[0m\u001b[0mrecs\u001b[0m\u001b[0;34m)\u001b[0m \u001b[0;34m==\u001b[0m \u001b[0;36m0\u001b[0m\u001b[0;34m:\u001b[0m\u001b[0;34m\u001b[0m\u001b[0;34m\u001b[0m\u001b[0m\n\u001b[1;32m      8\u001b[0m         \u001b[0;32mreturn\u001b[0m \u001b[0;36m0.0\u001b[0m\u001b[0;34m,\u001b[0m \u001b[0;36m0.0\u001b[0m\u001b[0;34m\u001b[0m\u001b[0;34m\u001b[0m\u001b[0m\n",
            "\u001b[0;32m<ipython-input-19-3b2c9c8f90ae>\u001b[0m in \u001b[0;36mhybrid_recommend\u001b[0;34m(user_id, alpha, top_n)\u001b[0m\n\u001b[1;32m     17\u001b[0m     \u001b[0;32mfor\u001b[0m \u001b[0midx\u001b[0m \u001b[0;32min\u001b[0m \u001b[0mrange\u001b[0m\u001b[0;34m(\u001b[0m\u001b[0mlen\u001b[0m\u001b[0;34m(\u001b[0m\u001b[0mcf_scores\u001b[0m\u001b[0;34m)\u001b[0m\u001b[0;34m)\u001b[0m\u001b[0;34m:\u001b[0m\u001b[0;34m\u001b[0m\u001b[0;34m\u001b[0m\u001b[0m\n\u001b[1;32m     18\u001b[0m         \u001b[0mitem_id\u001b[0m \u001b[0;34m=\u001b[0m \u001b[0mitem_ids_cf\u001b[0m\u001b[0;34m[\u001b[0m\u001b[0midx\u001b[0m\u001b[0;34m]\u001b[0m\u001b[0;34m\u001b[0m\u001b[0;34m\u001b[0m\u001b[0m\n\u001b[0;32m---> 19\u001b[0;31m         \u001b[0mcontent_idx\u001b[0m \u001b[0;34m=\u001b[0m \u001b[0mitemid_to_index\u001b[0m\u001b[0;34m.\u001b[0m\u001b[0mget\u001b[0m\u001b[0;34m(\u001b[0m\u001b[0mitem_id\u001b[0m\u001b[0;34m)\u001b[0m\u001b[0;34m\u001b[0m\u001b[0;34m\u001b[0m\u001b[0m\n\u001b[0m\u001b[1;32m     20\u001b[0m         \u001b[0;32mif\u001b[0m \u001b[0mcontent_idx\u001b[0m \u001b[0;32mis\u001b[0m \u001b[0;32mnot\u001b[0m \u001b[0;32mNone\u001b[0m\u001b[0;34m:\u001b[0m\u001b[0;34m\u001b[0m\u001b[0;34m\u001b[0m\u001b[0m\n\u001b[1;32m     21\u001b[0m             \u001b[0mmatched_scores\u001b[0m\u001b[0;34m[\u001b[0m\u001b[0midx\u001b[0m\u001b[0;34m]\u001b[0m \u001b[0;34m=\u001b[0m \u001b[0mcontent_scores\u001b[0m\u001b[0;34m[\u001b[0m\u001b[0mcontent_idx\u001b[0m\u001b[0;34m]\u001b[0m\u001b[0;34m\u001b[0m\u001b[0;34m\u001b[0m\u001b[0m\n",
            "\u001b[0;31mKeyboardInterrupt\u001b[0m: "
          ]
        }
      ]
    },
    {
      "cell_type": "code",
      "source": [
        "import pandas as pd\n",
        "\n",
        "ratings = pd.read_csv(\"ml_ratings_clean.csv\")\n",
        "movies = pd.read_csv(\"ml_movies_clean.csv\")"
      ],
      "metadata": {
        "id": "W1Ei8Vm5VBeR"
      },
      "execution_count": 24,
      "outputs": []
    },
    {
      "cell_type": "code",
      "source": [
        "ratings = ratings[ratings[\"rating\"] >= 4]"
      ],
      "metadata": {
        "id": "6xMouVg7VF3Z"
      },
      "execution_count": 25,
      "outputs": []
    },
    {
      "cell_type": "code",
      "source": [
        "from sklearn.preprocessing import LabelEncoder\n",
        "\n",
        "user_enc = LabelEncoder()\n",
        "item_enc = LabelEncoder()\n",
        "\n",
        "ratings['user_idx'] = user_enc.fit_transform(ratings['userId'])\n",
        "ratings['item_idx'] = item_enc.fit_transform(ratings['movieId'])\n",
        "\n",
        "user_id_map = dict(zip(ratings['userId'], ratings['user_idx']))\n",
        "item_id_map = dict(zip(ratings['movieId'], ratings['item_idx']))"
      ],
      "metadata": {
        "id": "ltJ1cdSGVHxI"
      },
      "execution_count": 26,
      "outputs": []
    },
    {
      "cell_type": "code",
      "source": [
        "from scipy.sparse import coo_matrix\n",
        "\n",
        "n_users = ratings['user_idx'].nunique()\n",
        "n_items = ratings['item_idx'].nunique()\n",
        "\n",
        "sparse_matrix = coo_matrix(\n",
        "    (np.ones(len(ratings)), (ratings['user_idx'], ratings['item_idx'])),\n",
        "    shape=(n_users, n_items)\n",
        ")"
      ],
      "metadata": {
        "id": "JBharAX5VKHM"
      },
      "execution_count": 27,
      "outputs": []
    },
    {
      "cell_type": "code",
      "source": [
        "from lightfm import LightFM\n",
        "\n",
        "model = LightFM(loss='warp')\n",
        "model.fit(sparse_matrix, epochs=10, num_threads=2)"
      ],
      "metadata": {
        "colab": {
          "base_uri": "https://localhost:8080/",
          "height": 0
        },
        "id": "YqKG985VVM0U",
        "outputId": "6436c1b2-b593-4873-a6dc-d7e04cb04f97"
      },
      "execution_count": 28,
      "outputs": [
        {
          "output_type": "execute_result",
          "data": {
            "text/plain": [
              "<lightfm.lightfm.LightFM at 0x78be44b98b90>"
            ]
          },
          "metadata": {},
          "execution_count": 28
        }
      ]
    },
    {
      "cell_type": "code",
      "source": [
        "# Convert genres to binary features\n",
        "movies['genres'] = movies['genres'].str.replace('|', ' ')\n",
        "from sklearn.feature_extraction.text import TfidfVectorizer\n",
        "\n",
        "tfidf = TfidfVectorizer()\n",
        "item_genres_matrix = tfidf.fit_transform(movies['genres'])\n",
        "\n",
        "# Keep only movies that appear in the ratings dataset\n",
        "rated_movie_ids = ratings['movieId'].unique()\n",
        "movies = movies[movies['movieId'].isin(rated_movie_ids)].reset_index(drop=True)\n",
        "\n",
        "# Align to movieId order used in item_enc\n",
        "movieid_to_index = dict(zip(movies['movieId'], movies.index))\n",
        "itemid_encoded = item_enc.transform(movies['movieId'])\n",
        "index_to_movieid = {v: k for k, v in item_id_map.items()}"
      ],
      "metadata": {
        "id": "Y8YBknsrVPS9"
      },
      "execution_count": 31,
      "outputs": []
    },
    {
      "cell_type": "code",
      "source": [
        "from scipy.sparse import csr_matrix\n",
        "\n",
        "user_profiles = {}\n",
        "\n",
        "for user_id, group in ratings.groupby(\"userId\"):\n",
        "    item_ids = group[\"movieId\"].values\n",
        "    valid_idxs = [movieid_to_index[i] for i in item_ids if i in movieid_to_index]\n",
        "\n",
        "    if not valid_idxs:\n",
        "        continue\n",
        "\n",
        "    sum_vec = csr_matrix((1, item_genres_matrix.shape[1]))\n",
        "    for idx in valid_idxs:\n",
        "        sum_vec += item_genres_matrix[idx]\n",
        "\n",
        "    avg_vec = sum_vec / len(valid_idxs)\n",
        "    user_profiles[user_id] = avg_vec"
      ],
      "metadata": {
        "id": "JSUtSMFSVSif"
      },
      "execution_count": 32,
      "outputs": []
    },
    {
      "cell_type": "code",
      "source": [
        "!pip install -q huggingface_hub"
      ],
      "metadata": {
        "id": "vRy2rMFvhgLR"
      },
      "execution_count": 33,
      "outputs": []
    },
    {
      "cell_type": "code",
      "source": [
        "from huggingface_hub import notebook_login\n",
        "notebook_login()"
      ],
      "metadata": {
        "colab": {
          "base_uri": "https://localhost:8080/",
          "height": 17,
          "referenced_widgets": [
            "9cc4dd6b59754e088186b76479e433b8",
            "086b7655163d4d80ab096ae670e4b1a1",
            "948f8c474e12482994c29808de6f0a64",
            "713fae57e3ba4ec09b95bbf6fa793ae0",
            "3dd779c04ffe4bc6ba6c2ca614eb4af8",
            "fcda589b1167454883b9c4ba9e6c3c74",
            "f1943a8d4c4b40ad93970e3fb3d5b9c5",
            "0333923bb0664f57b1ad0b77f447b35e",
            "6d4c160b2e1b40e3a9209497226bdc1b",
            "d0026667c60c48a282fdc8c37932051d",
            "252fc0a9c5694c078403408925a64a4a",
            "54b683d80f214c51bd1915e29d0e3ee6",
            "e2d9c38781234298803866281845f444",
            "aed93d9585e8422e9ee1ec3528ec69b2",
            "2f46850742ad46cb9ca1e84f7e534ddd",
            "e13e5385994643a18d8b99c1723c92ac",
            "9df3344b2864465a9446a6a6ff7ee6f0",
            "fd852ae13cd4433a873a2e96d4ab1132",
            "f1ce9b54e7e143948f81e7c2649a15a3",
            "9453b9fe66b149b98507b714f727e4d4"
          ]
        },
        "id": "8ChhRat8h9Qk",
        "outputId": "aa9d5e15-8e12-457a-b79b-b990b910434c"
      },
      "execution_count": 34,
      "outputs": [
        {
          "output_type": "display_data",
          "data": {
            "text/plain": [
              "VBox(children=(HTML(value='<center> <img\\nsrc=https://huggingface.co/front/assets/huggingface_logo-noborder.sv…"
            ],
            "application/vnd.jupyter.widget-view+json": {
              "version_major": 2,
              "version_minor": 0,
              "model_id": "9cc4dd6b59754e088186b76479e433b8"
            }
          },
          "metadata": {}
        }
      ]
    },
    {
      "cell_type": "code",
      "source": [
        "app_code = \"\"\"\n",
        "import pandas as pd\n",
        "import numpy as np\n",
        "from sklearn.preprocessing import LabelEncoder\n",
        "from sklearn.feature_extraction.text import TfidfVectorizer\n",
        "from sklearn.metrics.pairwise import cosine_similarity\n",
        "from scipy.sparse import coo_matrix, csr_matrix\n",
        "from lightfm import LightFM\n",
        "import gradio as gr\n",
        "\n",
        "# Load data\n",
        "ratings = pd.read_csv(\"ml_ratings_clean.csv\")\n",
        "movies = pd.read_csv(\"ml_movies_clean.csv\")\n",
        "\n",
        "# Filter for positive implicit feedback\n",
        "ratings = ratings[ratings[\"rating\"] >= 4]\n",
        "\n",
        "# Encode users/items\n",
        "user_enc = LabelEncoder()\n",
        "item_enc = LabelEncoder()\n",
        "ratings[\"user_idx\"] = user_enc.fit_transform(ratings[\"userId\"])\n",
        "ratings[\"item_idx\"] = item_enc.fit_transform(ratings[\"movieId\"])\n",
        "\n",
        "user_id_map = dict(zip(ratings[\"userId\"], ratings[\"user_idx\"]))\n",
        "item_id_map = dict(zip(ratings[\"movieId\"], ratings[\"item_idx\"]))\n",
        "movie_id_lookup = dict(zip(movies[\"movieId\"], movies[\"title\"]))\n",
        "\n",
        "# Sparse interaction matrix\n",
        "n_users = ratings[\"user_idx\"].nunique()\n",
        "n_items = ratings[\"item_idx\"].nunique()\n",
        "sparse_matrix = coo_matrix(\n",
        "    (np.ones(len(ratings)), (ratings[\"user_idx\"], ratings[\"item_idx\"])),\n",
        "    shape=(n_users, n_items)\n",
        ")\n",
        "\n",
        "# Train LightFM model\n",
        "model = LightFM(loss=\"warp\")\n",
        "model.fit(sparse_matrix, epochs=10, num_threads=2)\n",
        "\n",
        "# Prepare genres\n",
        "movies[\"genres\"] = movies[\"genres\"].str.replace(\"|\", \" \")\n",
        "tfidf = TfidfVectorizer()\n",
        "item_genres_matrix = tfidf.fit_transform(movies[\"genres\"])\n",
        "movieid_to_index = dict(zip(movies[\"movieId\"], movies.index))\n",
        "\n",
        "# Build user content profiles\n",
        "user_profiles = {}\n",
        "for user_id, group in ratings.groupby(\"userId\"):\n",
        "    item_ids = group[\"movieId\"].values\n",
        "    valid_idxs = [movieid_to_index[i] for i in item_ids if i in movieid_to_index]\n",
        "    if not valid_idxs:\n",
        "        continue\n",
        "    sum_vec = csr_matrix((1, item_genres_matrix.shape[1]))\n",
        "    for idx in valid_idxs:\n",
        "        sum_vec += item_genres_matrix[idx]\n",
        "    avg_vec = sum_vec / len(valid_idxs)\n",
        "    user_profiles[user_id] = avg_vec\n",
        "\n",
        "# Recommender function\n",
        "def recommend_movies(user_id_str, method=\"Hybrid\", alpha=0.7, k=5):\n",
        "    user_id = int(user_id_str)\n",
        "    if user_id not in user_id_map:\n",
        "        return \"❌ User ID not found.\"\n",
        "\n",
        "    user_idx = user_id_map[user_id]\n",
        "    item_indices = np.arange(sparse_matrix.shape[1])\n",
        "    movie_ids_cf = item_enc.inverse_transform(item_indices)\n",
        "    cf_scores = model.predict(user_idx, item_indices)\n",
        "\n",
        "    if user_id in user_profiles:\n",
        "        user_vec = user_profiles[user_id]\n",
        "        content_scores = cosine_similarity(user_vec, item_genres_matrix).flatten()\n",
        "    else:\n",
        "        content_scores = np.zeros_like(cf_scores)\n",
        "\n",
        "    if method == \"Hybrid\":\n",
        "        final_scores = alpha * cf_scores + (1 - alpha) * content_scores\n",
        "    elif method == \"Collaborative\":\n",
        "        final_scores = cf_scores\n",
        "    else:\n",
        "        final_scores = content_scores\n",
        "\n",
        "    top_indices = final_scores.argsort()[::-1]\n",
        "    seen = set(ratings[ratings[\"userId\"] == user_id][\"movieId\"])\n",
        "    recs = []\n",
        "    for idx in top_indices:\n",
        "        mid = movie_ids_cf[idx]\n",
        "        if mid not in seen:\n",
        "            title = movie_id_lookup.get(mid, f\"Movie ID {mid}\")\n",
        "            recs.append(f\"🎬 {title}\")\n",
        "        if len(recs) == k:\n",
        "            break\n",
        "\n",
        "    return \"\\\\n\".join(recs) if recs else \"No recommendations found.\"\n",
        "\n",
        "# Gradio interface\n",
        "user_choices = list(map(str, np.random.choice(ratings[\"userId\"].unique(), 25, replace=False)))\n",
        "\n",
        "interface = gr.Interface(\n",
        "    fn=recommend_movies,\n",
        "    inputs=[\n",
        "        gr.Dropdown(choices=user_choices, label=\"Select User ID\"),\n",
        "        gr.Radio(choices=[\"Hybrid\", \"Collaborative\", \"Content-Based\"], label=\"Model Type\"),\n",
        "        gr.Slider(minimum=0.0, maximum=1.0, value=0.7, label=\"Hybrid Weight (α)\"),\n",
        "        gr.Slider(minimum=1, maximum=10, value=5, label=\"Number of Recommendations\")\n",
        "    ],\n",
        "    outputs=gr.Textbox(label=\"Recommended Movies\"),\n",
        "    title=\"🎥 MovieLens Hybrid Recommender\",\n",
        "    description=\"Personalized movie recommendations using hybrid, collaborative, or content-based filtering.\"\n",
        ")\n",
        "\n",
        "interface.launch()\n",
        "\"\"\""
      ],
      "metadata": {
        "id": "6E-cJYp4iHKq"
      },
      "execution_count": 35,
      "outputs": []
    },
    {
      "cell_type": "code",
      "source": [
        "with open(\"app.py\", \"w\") as f:\n",
        "    f.write(app_code)"
      ],
      "metadata": {
        "id": "UfT8ExBaiK9j"
      },
      "execution_count": 36,
      "outputs": []
    },
    {
      "cell_type": "code",
      "source": [
        "with open(\"requirements.txt\", \"w\") as f:\n",
        "    f.write(\"pandas\\nnumpy\\nscikit-learn\\nscipy\\nlightfm\\ngradio\")"
      ],
      "metadata": {
        "id": "CMNqAA5giPvz"
      },
      "execution_count": 40,
      "outputs": []
    },
    {
      "cell_type": "code",
      "source": [
        "from huggingface_hub import upload_file\n",
        "\n",
        "# using username and space name to upload app\n",
        "username = \"zda23\"\n",
        "space_name = \"hybrid-movielens-recommender\"\n",
        "repo_id = f\"{username}/{space_name}\"\n",
        "\n",
        "# Upload the main app file\n",
        "upload_file(\n",
        "    path_or_fileobj=\"app.py\",\n",
        "    path_in_repo=\"app.py\",\n",
        "    repo_id=repo_id,\n",
        "    repo_type=\"space\"\n",
        ")\n",
        "\n",
        "# Upload the fixed requirements.txt\n",
        "upload_file(\n",
        "    path_or_fileobj=\"requirements.txt\",\n",
        "    path_in_repo=\"requirements.txt\",\n",
        "    repo_id=repo_id,\n",
        "    repo_type=\"space\"\n",
        ")\n",
        "\n",
        "# Upload your dataset files\n",
        "upload_file(\n",
        "    path_or_fileobj=\"ml_ratings_clean.csv\",\n",
        "    path_in_repo=\"ml_ratings_clean.csv\",\n",
        "    repo_id=repo_id,\n",
        "    repo_type=\"space\"\n",
        ")\n",
        "\n",
        "upload_file(\n",
        "    path_or_fileobj=\"ml_movies_clean.csv\",\n",
        "    path_in_repo=\"ml_movies_clean.csv\",\n",
        "    repo_id=repo_id,\n",
        "    repo_type=\"space\"\n",
        ")"
      ],
      "metadata": {
        "colab": {
          "base_uri": "https://localhost:8080/",
          "height": 199
        },
        "id": "doQHhU3BiSQt",
        "outputId": "8a25c48d-b756-48e2-a5bc-1dc058e8a62f"
      },
      "execution_count": 42,
      "outputs": [
        {
          "output_type": "stream",
          "name": "stderr",
          "text": [
            "No files have been modified since last commit. Skipping to prevent empty commit.\n",
            "WARNING:huggingface_hub.hf_api:No files have been modified since last commit. Skipping to prevent empty commit.\n",
            "No files have been modified since last commit. Skipping to prevent empty commit.\n",
            "WARNING:huggingface_hub.hf_api:No files have been modified since last commit. Skipping to prevent empty commit.\n",
            "No files have been modified since last commit. Skipping to prevent empty commit.\n",
            "WARNING:huggingface_hub.hf_api:No files have been modified since last commit. Skipping to prevent empty commit.\n"
          ]
        },
        {
          "output_type": "execute_result",
          "data": {
            "text/plain": [
              "CommitInfo(commit_url='https://huggingface.co/spaces/zda23/hybrid-movielens-recommender/commit/4ccf0b8c35a674beede343fc8e310af1da24df51', commit_message='Upload ml_movies_clean.csv with huggingface_hub', commit_description='', oid='4ccf0b8c35a674beede343fc8e310af1da24df51', pr_url=None, repo_url=RepoUrl('https://huggingface.co/spaces/zda23/hybrid-movielens-recommender', endpoint='https://huggingface.co', repo_type='space', repo_id='zda23/hybrid-movielens-recommender'), pr_revision=None, pr_num=None)"
            ],
            "application/vnd.google.colaboratory.intrinsic+json": {
              "type": "string"
            }
          },
          "metadata": {},
          "execution_count": 42
        }
      ]
    },
    {
      "cell_type": "code",
      "source": [
        "!ls *.ipynb"
      ],
      "metadata": {
        "colab": {
          "base_uri": "https://localhost:8080/"
        },
        "id": "H7fLyI-Xnuqu",
        "outputId": "ec89fd69-e07c-46d7-862a-8b9f5a1c773a"
      },
      "execution_count": 47,
      "outputs": [
        {
          "output_type": "stream",
          "name": "stdout",
          "text": [
            "ls: cannot access '*.ipynb': No such file or directory\n"
          ]
        }
      ]
    },
    {
      "cell_type": "code",
      "source": [
        "!nbstripout Hybrid_Recommendation_System_with_RetailRocket_and_MovieLens.ipynb"
      ],
      "metadata": {
        "id": "kAEhGRNPnRD6"
      },
      "execution_count": 48,
      "outputs": []
    }
  ],
  "metadata": {
    "colab": {
      "provenance": []
    },
    "kernelspec": {
      "display_name": "Python 3",
      "name": "python3"
    },
    "language_info": {
      "name": "python"
    },
    "widgets": {
      "application/vnd.jupyter.widget-state+json": {
        "9cc4dd6b59754e088186b76479e433b8": {
          "model_module": "@jupyter-widgets/controls",
          "model_name": "VBoxModel",
          "model_module_version": "1.5.0",
          "state": {
            "_dom_classes": [],
            "_model_module": "@jupyter-widgets/controls",
            "_model_module_version": "1.5.0",
            "_model_name": "VBoxModel",
            "_view_count": null,
            "_view_module": "@jupyter-widgets/controls",
            "_view_module_version": "1.5.0",
            "_view_name": "VBoxView",
            "box_style": "",
            "children": [],
            "layout": "IPY_MODEL_f1943a8d4c4b40ad93970e3fb3d5b9c5"
          }
        },
        "086b7655163d4d80ab096ae670e4b1a1": {
          "model_module": "@jupyter-widgets/controls",
          "model_name": "HTMLModel",
          "model_module_version": "1.5.0",
          "state": {
            "_dom_classes": [],
            "_model_module": "@jupyter-widgets/controls",
            "_model_module_version": "1.5.0",
            "_model_name": "HTMLModel",
            "_view_count": null,
            "_view_module": "@jupyter-widgets/controls",
            "_view_module_version": "1.5.0",
            "_view_name": "HTMLView",
            "description": "",
            "description_tooltip": null,
            "layout": "IPY_MODEL_0333923bb0664f57b1ad0b77f447b35e",
            "placeholder": "​",
            "style": "IPY_MODEL_6d4c160b2e1b40e3a9209497226bdc1b",
            "value": "<center> <img\nsrc=https://huggingface.co/front/assets/huggingface_logo-noborder.svg\nalt='Hugging Face'> <br> Copy a token from <a\nhref=\"https://huggingface.co/settings/tokens\" target=\"_blank\">your Hugging Face\ntokens page</a> and paste it below. <br> Immediately click login after copying\nyour token or it might be stored in plain text in this notebook file. </center>"
          }
        },
        "948f8c474e12482994c29808de6f0a64": {
          "model_module": "@jupyter-widgets/controls",
          "model_name": "PasswordModel",
          "model_module_version": "1.5.0",
          "state": {
            "_dom_classes": [],
            "_model_module": "@jupyter-widgets/controls",
            "_model_module_version": "1.5.0",
            "_model_name": "PasswordModel",
            "_view_count": null,
            "_view_module": "@jupyter-widgets/controls",
            "_view_module_version": "1.5.0",
            "_view_name": "PasswordView",
            "continuous_update": true,
            "description": "Token:",
            "description_tooltip": null,
            "disabled": false,
            "layout": "IPY_MODEL_d0026667c60c48a282fdc8c37932051d",
            "placeholder": "​",
            "style": "IPY_MODEL_252fc0a9c5694c078403408925a64a4a",
            "value": ""
          }
        },
        "713fae57e3ba4ec09b95bbf6fa793ae0": {
          "model_module": "@jupyter-widgets/controls",
          "model_name": "CheckboxModel",
          "model_module_version": "1.5.0",
          "state": {
            "_dom_classes": [],
            "_model_module": "@jupyter-widgets/controls",
            "_model_module_version": "1.5.0",
            "_model_name": "CheckboxModel",
            "_view_count": null,
            "_view_module": "@jupyter-widgets/controls",
            "_view_module_version": "1.5.0",
            "_view_name": "CheckboxView",
            "description": "Add token as git credential?",
            "description_tooltip": null,
            "disabled": false,
            "indent": true,
            "layout": "IPY_MODEL_54b683d80f214c51bd1915e29d0e3ee6",
            "style": "IPY_MODEL_e2d9c38781234298803866281845f444",
            "value": true
          }
        },
        "3dd779c04ffe4bc6ba6c2ca614eb4af8": {
          "model_module": "@jupyter-widgets/controls",
          "model_name": "ButtonModel",
          "model_module_version": "1.5.0",
          "state": {
            "_dom_classes": [],
            "_model_module": "@jupyter-widgets/controls",
            "_model_module_version": "1.5.0",
            "_model_name": "ButtonModel",
            "_view_count": null,
            "_view_module": "@jupyter-widgets/controls",
            "_view_module_version": "1.5.0",
            "_view_name": "ButtonView",
            "button_style": "",
            "description": "Login",
            "disabled": false,
            "icon": "",
            "layout": "IPY_MODEL_aed93d9585e8422e9ee1ec3528ec69b2",
            "style": "IPY_MODEL_2f46850742ad46cb9ca1e84f7e534ddd",
            "tooltip": ""
          }
        },
        "fcda589b1167454883b9c4ba9e6c3c74": {
          "model_module": "@jupyter-widgets/controls",
          "model_name": "HTMLModel",
          "model_module_version": "1.5.0",
          "state": {
            "_dom_classes": [],
            "_model_module": "@jupyter-widgets/controls",
            "_model_module_version": "1.5.0",
            "_model_name": "HTMLModel",
            "_view_count": null,
            "_view_module": "@jupyter-widgets/controls",
            "_view_module_version": "1.5.0",
            "_view_name": "HTMLView",
            "description": "",
            "description_tooltip": null,
            "layout": "IPY_MODEL_e13e5385994643a18d8b99c1723c92ac",
            "placeholder": "​",
            "style": "IPY_MODEL_9df3344b2864465a9446a6a6ff7ee6f0",
            "value": "\n<b>Pro Tip:</b> If you don't already have one, you can create a dedicated\n'notebooks' token with 'write' access, that you can then easily reuse for all\nnotebooks. </center>"
          }
        },
        "f1943a8d4c4b40ad93970e3fb3d5b9c5": {
          "model_module": "@jupyter-widgets/base",
          "model_name": "LayoutModel",
          "model_module_version": "1.2.0",
          "state": {
            "_model_module": "@jupyter-widgets/base",
            "_model_module_version": "1.2.0",
            "_model_name": "LayoutModel",
            "_view_count": null,
            "_view_module": "@jupyter-widgets/base",
            "_view_module_version": "1.2.0",
            "_view_name": "LayoutView",
            "align_content": null,
            "align_items": "center",
            "align_self": null,
            "border": null,
            "bottom": null,
            "display": "flex",
            "flex": null,
            "flex_flow": "column",
            "grid_area": null,
            "grid_auto_columns": null,
            "grid_auto_flow": null,
            "grid_auto_rows": null,
            "grid_column": null,
            "grid_gap": null,
            "grid_row": null,
            "grid_template_areas": null,
            "grid_template_columns": null,
            "grid_template_rows": null,
            "height": null,
            "justify_content": null,
            "justify_items": null,
            "left": null,
            "margin": null,
            "max_height": null,
            "max_width": null,
            "min_height": null,
            "min_width": null,
            "object_fit": null,
            "object_position": null,
            "order": null,
            "overflow": null,
            "overflow_x": null,
            "overflow_y": null,
            "padding": null,
            "right": null,
            "top": null,
            "visibility": null,
            "width": "50%"
          }
        },
        "0333923bb0664f57b1ad0b77f447b35e": {
          "model_module": "@jupyter-widgets/base",
          "model_name": "LayoutModel",
          "model_module_version": "1.2.0",
          "state": {
            "_model_module": "@jupyter-widgets/base",
            "_model_module_version": "1.2.0",
            "_model_name": "LayoutModel",
            "_view_count": null,
            "_view_module": "@jupyter-widgets/base",
            "_view_module_version": "1.2.0",
            "_view_name": "LayoutView",
            "align_content": null,
            "align_items": null,
            "align_self": null,
            "border": null,
            "bottom": null,
            "display": null,
            "flex": null,
            "flex_flow": null,
            "grid_area": null,
            "grid_auto_columns": null,
            "grid_auto_flow": null,
            "grid_auto_rows": null,
            "grid_column": null,
            "grid_gap": null,
            "grid_row": null,
            "grid_template_areas": null,
            "grid_template_columns": null,
            "grid_template_rows": null,
            "height": null,
            "justify_content": null,
            "justify_items": null,
            "left": null,
            "margin": null,
            "max_height": null,
            "max_width": null,
            "min_height": null,
            "min_width": null,
            "object_fit": null,
            "object_position": null,
            "order": null,
            "overflow": null,
            "overflow_x": null,
            "overflow_y": null,
            "padding": null,
            "right": null,
            "top": null,
            "visibility": null,
            "width": null
          }
        },
        "6d4c160b2e1b40e3a9209497226bdc1b": {
          "model_module": "@jupyter-widgets/controls",
          "model_name": "DescriptionStyleModel",
          "model_module_version": "1.5.0",
          "state": {
            "_model_module": "@jupyter-widgets/controls",
            "_model_module_version": "1.5.0",
            "_model_name": "DescriptionStyleModel",
            "_view_count": null,
            "_view_module": "@jupyter-widgets/base",
            "_view_module_version": "1.2.0",
            "_view_name": "StyleView",
            "description_width": ""
          }
        },
        "d0026667c60c48a282fdc8c37932051d": {
          "model_module": "@jupyter-widgets/base",
          "model_name": "LayoutModel",
          "model_module_version": "1.2.0",
          "state": {
            "_model_module": "@jupyter-widgets/base",
            "_model_module_version": "1.2.0",
            "_model_name": "LayoutModel",
            "_view_count": null,
            "_view_module": "@jupyter-widgets/base",
            "_view_module_version": "1.2.0",
            "_view_name": "LayoutView",
            "align_content": null,
            "align_items": null,
            "align_self": null,
            "border": null,
            "bottom": null,
            "display": null,
            "flex": null,
            "flex_flow": null,
            "grid_area": null,
            "grid_auto_columns": null,
            "grid_auto_flow": null,
            "grid_auto_rows": null,
            "grid_column": null,
            "grid_gap": null,
            "grid_row": null,
            "grid_template_areas": null,
            "grid_template_columns": null,
            "grid_template_rows": null,
            "height": null,
            "justify_content": null,
            "justify_items": null,
            "left": null,
            "margin": null,
            "max_height": null,
            "max_width": null,
            "min_height": null,
            "min_width": null,
            "object_fit": null,
            "object_position": null,
            "order": null,
            "overflow": null,
            "overflow_x": null,
            "overflow_y": null,
            "padding": null,
            "right": null,
            "top": null,
            "visibility": null,
            "width": null
          }
        },
        "252fc0a9c5694c078403408925a64a4a": {
          "model_module": "@jupyter-widgets/controls",
          "model_name": "DescriptionStyleModel",
          "model_module_version": "1.5.0",
          "state": {
            "_model_module": "@jupyter-widgets/controls",
            "_model_module_version": "1.5.0",
            "_model_name": "DescriptionStyleModel",
            "_view_count": null,
            "_view_module": "@jupyter-widgets/base",
            "_view_module_version": "1.2.0",
            "_view_name": "StyleView",
            "description_width": ""
          }
        },
        "54b683d80f214c51bd1915e29d0e3ee6": {
          "model_module": "@jupyter-widgets/base",
          "model_name": "LayoutModel",
          "model_module_version": "1.2.0",
          "state": {
            "_model_module": "@jupyter-widgets/base",
            "_model_module_version": "1.2.0",
            "_model_name": "LayoutModel",
            "_view_count": null,
            "_view_module": "@jupyter-widgets/base",
            "_view_module_version": "1.2.0",
            "_view_name": "LayoutView",
            "align_content": null,
            "align_items": null,
            "align_self": null,
            "border": null,
            "bottom": null,
            "display": null,
            "flex": null,
            "flex_flow": null,
            "grid_area": null,
            "grid_auto_columns": null,
            "grid_auto_flow": null,
            "grid_auto_rows": null,
            "grid_column": null,
            "grid_gap": null,
            "grid_row": null,
            "grid_template_areas": null,
            "grid_template_columns": null,
            "grid_template_rows": null,
            "height": null,
            "justify_content": null,
            "justify_items": null,
            "left": null,
            "margin": null,
            "max_height": null,
            "max_width": null,
            "min_height": null,
            "min_width": null,
            "object_fit": null,
            "object_position": null,
            "order": null,
            "overflow": null,
            "overflow_x": null,
            "overflow_y": null,
            "padding": null,
            "right": null,
            "top": null,
            "visibility": null,
            "width": null
          }
        },
        "e2d9c38781234298803866281845f444": {
          "model_module": "@jupyter-widgets/controls",
          "model_name": "DescriptionStyleModel",
          "model_module_version": "1.5.0",
          "state": {
            "_model_module": "@jupyter-widgets/controls",
            "_model_module_version": "1.5.0",
            "_model_name": "DescriptionStyleModel",
            "_view_count": null,
            "_view_module": "@jupyter-widgets/base",
            "_view_module_version": "1.2.0",
            "_view_name": "StyleView",
            "description_width": ""
          }
        },
        "aed93d9585e8422e9ee1ec3528ec69b2": {
          "model_module": "@jupyter-widgets/base",
          "model_name": "LayoutModel",
          "model_module_version": "1.2.0",
          "state": {
            "_model_module": "@jupyter-widgets/base",
            "_model_module_version": "1.2.0",
            "_model_name": "LayoutModel",
            "_view_count": null,
            "_view_module": "@jupyter-widgets/base",
            "_view_module_version": "1.2.0",
            "_view_name": "LayoutView",
            "align_content": null,
            "align_items": null,
            "align_self": null,
            "border": null,
            "bottom": null,
            "display": null,
            "flex": null,
            "flex_flow": null,
            "grid_area": null,
            "grid_auto_columns": null,
            "grid_auto_flow": null,
            "grid_auto_rows": null,
            "grid_column": null,
            "grid_gap": null,
            "grid_row": null,
            "grid_template_areas": null,
            "grid_template_columns": null,
            "grid_template_rows": null,
            "height": null,
            "justify_content": null,
            "justify_items": null,
            "left": null,
            "margin": null,
            "max_height": null,
            "max_width": null,
            "min_height": null,
            "min_width": null,
            "object_fit": null,
            "object_position": null,
            "order": null,
            "overflow": null,
            "overflow_x": null,
            "overflow_y": null,
            "padding": null,
            "right": null,
            "top": null,
            "visibility": null,
            "width": null
          }
        },
        "2f46850742ad46cb9ca1e84f7e534ddd": {
          "model_module": "@jupyter-widgets/controls",
          "model_name": "ButtonStyleModel",
          "model_module_version": "1.5.0",
          "state": {
            "_model_module": "@jupyter-widgets/controls",
            "_model_module_version": "1.5.0",
            "_model_name": "ButtonStyleModel",
            "_view_count": null,
            "_view_module": "@jupyter-widgets/base",
            "_view_module_version": "1.2.0",
            "_view_name": "StyleView",
            "button_color": null,
            "font_weight": ""
          }
        },
        "e13e5385994643a18d8b99c1723c92ac": {
          "model_module": "@jupyter-widgets/base",
          "model_name": "LayoutModel",
          "model_module_version": "1.2.0",
          "state": {
            "_model_module": "@jupyter-widgets/base",
            "_model_module_version": "1.2.0",
            "_model_name": "LayoutModel",
            "_view_count": null,
            "_view_module": "@jupyter-widgets/base",
            "_view_module_version": "1.2.0",
            "_view_name": "LayoutView",
            "align_content": null,
            "align_items": null,
            "align_self": null,
            "border": null,
            "bottom": null,
            "display": null,
            "flex": null,
            "flex_flow": null,
            "grid_area": null,
            "grid_auto_columns": null,
            "grid_auto_flow": null,
            "grid_auto_rows": null,
            "grid_column": null,
            "grid_gap": null,
            "grid_row": null,
            "grid_template_areas": null,
            "grid_template_columns": null,
            "grid_template_rows": null,
            "height": null,
            "justify_content": null,
            "justify_items": null,
            "left": null,
            "margin": null,
            "max_height": null,
            "max_width": null,
            "min_height": null,
            "min_width": null,
            "object_fit": null,
            "object_position": null,
            "order": null,
            "overflow": null,
            "overflow_x": null,
            "overflow_y": null,
            "padding": null,
            "right": null,
            "top": null,
            "visibility": null,
            "width": null
          }
        },
        "9df3344b2864465a9446a6a6ff7ee6f0": {
          "model_module": "@jupyter-widgets/controls",
          "model_name": "DescriptionStyleModel",
          "model_module_version": "1.5.0",
          "state": {
            "_model_module": "@jupyter-widgets/controls",
            "_model_module_version": "1.5.0",
            "_model_name": "DescriptionStyleModel",
            "_view_count": null,
            "_view_module": "@jupyter-widgets/base",
            "_view_module_version": "1.2.0",
            "_view_name": "StyleView",
            "description_width": ""
          }
        },
        "fd852ae13cd4433a873a2e96d4ab1132": {
          "model_module": "@jupyter-widgets/controls",
          "model_name": "LabelModel",
          "model_module_version": "1.5.0",
          "state": {
            "_dom_classes": [],
            "_model_module": "@jupyter-widgets/controls",
            "_model_module_version": "1.5.0",
            "_model_name": "LabelModel",
            "_view_count": null,
            "_view_module": "@jupyter-widgets/controls",
            "_view_module_version": "1.5.0",
            "_view_name": "LabelView",
            "description": "",
            "description_tooltip": null,
            "layout": "IPY_MODEL_f1ce9b54e7e143948f81e7c2649a15a3",
            "placeholder": "​",
            "style": "IPY_MODEL_9453b9fe66b149b98507b714f727e4d4",
            "value": "Connecting..."
          }
        },
        "f1ce9b54e7e143948f81e7c2649a15a3": {
          "model_module": "@jupyter-widgets/base",
          "model_name": "LayoutModel",
          "model_module_version": "1.2.0",
          "state": {
            "_model_module": "@jupyter-widgets/base",
            "_model_module_version": "1.2.0",
            "_model_name": "LayoutModel",
            "_view_count": null,
            "_view_module": "@jupyter-widgets/base",
            "_view_module_version": "1.2.0",
            "_view_name": "LayoutView",
            "align_content": null,
            "align_items": null,
            "align_self": null,
            "border": null,
            "bottom": null,
            "display": null,
            "flex": null,
            "flex_flow": null,
            "grid_area": null,
            "grid_auto_columns": null,
            "grid_auto_flow": null,
            "grid_auto_rows": null,
            "grid_column": null,
            "grid_gap": null,
            "grid_row": null,
            "grid_template_areas": null,
            "grid_template_columns": null,
            "grid_template_rows": null,
            "height": null,
            "justify_content": null,
            "justify_items": null,
            "left": null,
            "margin": null,
            "max_height": null,
            "max_width": null,
            "min_height": null,
            "min_width": null,
            "object_fit": null,
            "object_position": null,
            "order": null,
            "overflow": null,
            "overflow_x": null,
            "overflow_y": null,
            "padding": null,
            "right": null,
            "top": null,
            "visibility": null,
            "width": null
          }
        },
        "9453b9fe66b149b98507b714f727e4d4": {
          "model_module": "@jupyter-widgets/controls",
          "model_name": "DescriptionStyleModel",
          "model_module_version": "1.5.0",
          "state": {
            "_model_module": "@jupyter-widgets/controls",
            "_model_module_version": "1.5.0",
            "_model_name": "DescriptionStyleModel",
            "_view_count": null,
            "_view_module": "@jupyter-widgets/base",
            "_view_module_version": "1.2.0",
            "_view_name": "StyleView",
            "description_width": ""
          }
        }
      }
    }
  },
  "nbformat": 4,
  "nbformat_minor": 0
}