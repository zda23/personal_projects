{
 "cells": [
  {
   "cell_type": "code",
   "execution_count": 1,
   "metadata": {
    "colab": {
     "base_uri": "https://localhost:8080/"
    },
    "id": "VHpfF6sGelTJ",
    "outputId": "e1b3887d-a63c-4981-81ed-af72703c14a6"
   },
   "outputs": [
    {
     "name": "stderr",
     "output_type": "stream",
     "text": [
      "/usr/local/lib/python3.11/dist-packages/huggingface_hub/utils/_auth.py:94: UserWarning: \n",
      "The secret `HF_TOKEN` does not exist in your Colab secrets.\n",
      "To authenticate with the Hugging Face Hub, create a token in your settings tab (https://huggingface.co/settings/tokens), set it as secret in your Google Colab and restart your session.\n",
      "You will be able to reuse this secret in all of your notebooks.\n",
      "Please note that authentication is recommended but still optional to access public models or datasets.\n",
      "  warnings.warn(\n"
     ]
    }
   ],
   "source": [
    "# sentiment_model.py\n",
    "\n",
    "from transformers import AutoTokenizer, AutoModelForSequenceClassification\n",
    "import torch\n",
    "import torch.nn.functional as F\n",
    "\n",
    "# Load model + tokenizer once at the top\n",
    "tokenizer = AutoTokenizer.from_pretrained(\"distilbert-base-uncased-finetuned-sst-2-english\")\n",
    "model = AutoModelForSequenceClassification.from_pretrained(\"distilbert-base-uncased-finetuned-sst-2-english\")\n",
    "\n",
    "# Class labels from SST-2\n",
    "label_map = {0: \"negative\", 1: \"positive\"}\n",
    "\n",
    "def predict_sentiment(text):\n",
    "    \"\"\"\n",
    "    Run sentiment analysis on input text using a pretrained DistilBERT model.\n",
    "\n",
    "    Returns:\n",
    "        - label: \"positive\" or \"negative\"\n",
    "        - confidence: softmax probability of prediction\n",
    "    \"\"\"\n",
    "    inputs = tokenizer(text, return_tensors=\"pt\", truncation=True, padding=True)\n",
    "    with torch.no_grad():\n",
    "        outputs = model(**inputs)\n",
    "        probs = F.softmax(outputs.logits, dim=1)\n",
    "        pred_class = torch.argmax(probs, dim=1).item()\n",
    "        confidence = probs[0][pred_class].item()\n",
    "\n",
    "    return label_map[pred_class], round(confidence, 3)\n"
   ]
  },
  {
   "cell_type": "code",
   "execution_count": 2,
   "metadata": {
    "id": "SQTWeNYxe9_1"
   },
   "outputs": [],
   "source": [
    "# ---- data_stream.py logic ----\n",
    "import random\n",
    "import time\n",
    "\n",
    "TWEET_BANK = [\n",
    "    \"I love how this phone feels in my hand!\",\n",
    "    \"This update completely broke my app...\",\n",
    "    \"I’m not sure how I feel about this feature.\",\n",
    "    \"What an amazing performance! I’m blown away.\",\n",
    "    \"The food was cold and overpriced. Never going back.\",\n",
    "    \"Just had the best customer service experience!\",\n",
    "    \"Ugh. Delayed again. Thanks, airline.\",\n",
    "    \"Honestly, that trailer gave me chills.\",\n",
    "    \"Worst. Day. Ever.\",\n",
    "    \"Feeling grateful for the little things today.\"\n",
    "]\n",
    "\n",
    "def stream_tweets(interval=2):\n",
    "    while True:\n",
    "        yield random.choice(TWEET_BANK)\n",
    "        time.sleep(interval)\n"
   ]
  },
  {
   "cell_type": "code",
   "execution_count": 14,
   "metadata": {
    "colab": {
     "base_uri": "https://localhost:8080/"
    },
    "id": "hCv2p52-hkEb",
    "outputId": "29fed3fb-a958-470c-9d01-0aa6cb99b9a5"
   },
   "outputs": [
    {
     "name": "stdout",
     "output_type": "stream",
     "text": [
      "Collecting gradio\n",
      "  Downloading gradio-5.29.0-py3-none-any.whl.metadata (16 kB)\n",
      "Collecting aiofiles<25.0,>=22.0 (from gradio)\n",
      "  Downloading aiofiles-24.1.0-py3-none-any.whl.metadata (10 kB)\n",
      "Requirement already satisfied: anyio<5.0,>=3.0 in /usr/local/lib/python3.11/dist-packages (from gradio) (4.9.0)\n",
      "Requirement already satisfied: fastapi<1.0,>=0.115.2 in /usr/local/lib/python3.11/dist-packages (from gradio) (0.115.12)\n",
      "Collecting ffmpy (from gradio)\n",
      "  Downloading ffmpy-0.5.0-py3-none-any.whl.metadata (3.0 kB)\n",
      "Collecting gradio-client==1.10.0 (from gradio)\n",
      "  Downloading gradio_client-1.10.0-py3-none-any.whl.metadata (7.1 kB)\n",
      "Collecting groovy~=0.1 (from gradio)\n",
      "  Downloading groovy-0.1.2-py3-none-any.whl.metadata (6.1 kB)\n",
      "Requirement already satisfied: httpx>=0.24.1 in /usr/local/lib/python3.11/dist-packages (from gradio) (0.28.1)\n",
      "Requirement already satisfied: huggingface-hub>=0.28.1 in /usr/local/lib/python3.11/dist-packages (from gradio) (0.30.2)\n",
      "Requirement already satisfied: jinja2<4.0 in /usr/local/lib/python3.11/dist-packages (from gradio) (3.1.6)\n",
      "Requirement already satisfied: markupsafe<4.0,>=2.0 in /usr/local/lib/python3.11/dist-packages (from gradio) (3.0.2)\n",
      "Requirement already satisfied: numpy<3.0,>=1.0 in /usr/local/lib/python3.11/dist-packages (from gradio) (2.0.2)\n",
      "Requirement already satisfied: orjson~=3.0 in /usr/local/lib/python3.11/dist-packages (from gradio) (3.10.18)\n",
      "Requirement already satisfied: packaging in /usr/local/lib/python3.11/dist-packages (from gradio) (24.2)\n",
      "Requirement already satisfied: pandas<3.0,>=1.0 in /usr/local/lib/python3.11/dist-packages (from gradio) (2.2.2)\n",
      "Requirement already satisfied: pillow<12.0,>=8.0 in /usr/local/lib/python3.11/dist-packages (from gradio) (11.2.1)\n",
      "Requirement already satisfied: pydantic<2.12,>=2.0 in /usr/local/lib/python3.11/dist-packages (from gradio) (2.11.4)\n",
      "Collecting pydub (from gradio)\n",
      "  Downloading pydub-0.25.1-py2.py3-none-any.whl.metadata (1.4 kB)\n",
      "Collecting python-multipart>=0.0.18 (from gradio)\n",
      "  Downloading python_multipart-0.0.20-py3-none-any.whl.metadata (1.8 kB)\n",
      "Requirement already satisfied: pyyaml<7.0,>=5.0 in /usr/local/lib/python3.11/dist-packages (from gradio) (6.0.2)\n",
      "Collecting ruff>=0.9.3 (from gradio)\n",
      "  Downloading ruff-0.11.9-py3-none-manylinux_2_17_x86_64.manylinux2014_x86_64.whl.metadata (25 kB)\n",
      "Collecting safehttpx<0.2.0,>=0.1.6 (from gradio)\n",
      "  Downloading safehttpx-0.1.6-py3-none-any.whl.metadata (4.2 kB)\n",
      "Collecting semantic-version~=2.0 (from gradio)\n",
      "  Downloading semantic_version-2.10.0-py2.py3-none-any.whl.metadata (9.7 kB)\n",
      "Requirement already satisfied: starlette<1.0,>=0.40.0 in /usr/local/lib/python3.11/dist-packages (from gradio) (0.46.2)\n",
      "Collecting tomlkit<0.14.0,>=0.12.0 (from gradio)\n",
      "  Downloading tomlkit-0.13.2-py3-none-any.whl.metadata (2.7 kB)\n",
      "Requirement already satisfied: typer<1.0,>=0.12 in /usr/local/lib/python3.11/dist-packages (from gradio) (0.15.3)\n",
      "Requirement already satisfied: typing-extensions~=4.0 in /usr/local/lib/python3.11/dist-packages (from gradio) (4.13.2)\n",
      "Requirement already satisfied: uvicorn>=0.14.0 in /usr/local/lib/python3.11/dist-packages (from gradio) (0.34.2)\n",
      "Requirement already satisfied: fsspec in /usr/local/lib/python3.11/dist-packages (from gradio-client==1.10.0->gradio) (2025.3.2)\n",
      "Requirement already satisfied: websockets<16.0,>=10.0 in /usr/local/lib/python3.11/dist-packages (from gradio-client==1.10.0->gradio) (15.0.1)\n",
      "Requirement already satisfied: idna>=2.8 in /usr/local/lib/python3.11/dist-packages (from anyio<5.0,>=3.0->gradio) (3.10)\n",
      "Requirement already satisfied: sniffio>=1.1 in /usr/local/lib/python3.11/dist-packages (from anyio<5.0,>=3.0->gradio) (1.3.1)\n",
      "Requirement already satisfied: certifi in /usr/local/lib/python3.11/dist-packages (from httpx>=0.24.1->gradio) (2025.4.26)\n",
      "Requirement already satisfied: httpcore==1.* in /usr/local/lib/python3.11/dist-packages (from httpx>=0.24.1->gradio) (1.0.9)\n",
      "Requirement already satisfied: h11>=0.16 in /usr/local/lib/python3.11/dist-packages (from httpcore==1.*->httpx>=0.24.1->gradio) (0.16.0)\n",
      "Requirement already satisfied: filelock in /usr/local/lib/python3.11/dist-packages (from huggingface-hub>=0.28.1->gradio) (3.18.0)\n",
      "Requirement already satisfied: requests in /usr/local/lib/python3.11/dist-packages (from huggingface-hub>=0.28.1->gradio) (2.32.3)\n",
      "Requirement already satisfied: tqdm>=4.42.1 in /usr/local/lib/python3.11/dist-packages (from huggingface-hub>=0.28.1->gradio) (4.67.1)\n",
      "Requirement already satisfied: python-dateutil>=2.8.2 in /usr/local/lib/python3.11/dist-packages (from pandas<3.0,>=1.0->gradio) (2.9.0.post0)\n",
      "Requirement already satisfied: pytz>=2020.1 in /usr/local/lib/python3.11/dist-packages (from pandas<3.0,>=1.0->gradio) (2025.2)\n",
      "Requirement already satisfied: tzdata>=2022.7 in /usr/local/lib/python3.11/dist-packages (from pandas<3.0,>=1.0->gradio) (2025.2)\n",
      "Requirement already satisfied: annotated-types>=0.6.0 in /usr/local/lib/python3.11/dist-packages (from pydantic<2.12,>=2.0->gradio) (0.7.0)\n",
      "Requirement already satisfied: pydantic-core==2.33.2 in /usr/local/lib/python3.11/dist-packages (from pydantic<2.12,>=2.0->gradio) (2.33.2)\n",
      "Requirement already satisfied: typing-inspection>=0.4.0 in /usr/local/lib/python3.11/dist-packages (from pydantic<2.12,>=2.0->gradio) (0.4.0)\n",
      "Requirement already satisfied: click>=8.0.0 in /usr/local/lib/python3.11/dist-packages (from typer<1.0,>=0.12->gradio) (8.1.8)\n",
      "Requirement already satisfied: shellingham>=1.3.0 in /usr/local/lib/python3.11/dist-packages (from typer<1.0,>=0.12->gradio) (1.5.4)\n",
      "Requirement already satisfied: rich>=10.11.0 in /usr/local/lib/python3.11/dist-packages (from typer<1.0,>=0.12->gradio) (13.9.4)\n",
      "Requirement already satisfied: six>=1.5 in /usr/local/lib/python3.11/dist-packages (from python-dateutil>=2.8.2->pandas<3.0,>=1.0->gradio) (1.17.0)\n",
      "Requirement already satisfied: markdown-it-py>=2.2.0 in /usr/local/lib/python3.11/dist-packages (from rich>=10.11.0->typer<1.0,>=0.12->gradio) (3.0.0)\n",
      "Requirement already satisfied: pygments<3.0.0,>=2.13.0 in /usr/local/lib/python3.11/dist-packages (from rich>=10.11.0->typer<1.0,>=0.12->gradio) (2.19.1)\n",
      "Requirement already satisfied: charset-normalizer<4,>=2 in /usr/local/lib/python3.11/dist-packages (from requests->huggingface-hub>=0.28.1->gradio) (3.4.1)\n",
      "Requirement already satisfied: urllib3<3,>=1.21.1 in /usr/local/lib/python3.11/dist-packages (from requests->huggingface-hub>=0.28.1->gradio) (2.4.0)\n",
      "Requirement already satisfied: mdurl~=0.1 in /usr/local/lib/python3.11/dist-packages (from markdown-it-py>=2.2.0->rich>=10.11.0->typer<1.0,>=0.12->gradio) (0.1.2)\n",
      "Downloading gradio-5.29.0-py3-none-any.whl (54.1 MB)\n",
      "\u001b[2K   \u001b[90m━━━━━━━━━━━━━━━━━━━━━━━━━━━━━━━━━━━━━━━━\u001b[0m \u001b[32m54.1/54.1 MB\u001b[0m \u001b[31m8.2 MB/s\u001b[0m eta \u001b[36m0:00:00\u001b[0m\n",
      "\u001b[?25hDownloading gradio_client-1.10.0-py3-none-any.whl (322 kB)\n",
      "\u001b[2K   \u001b[90m━━━━━━━━━━━━━━━━━━━━━━━━━━━━━━━━━━━━━━━━\u001b[0m \u001b[32m322.9/322.9 kB\u001b[0m \u001b[31m20.6 MB/s\u001b[0m eta \u001b[36m0:00:00\u001b[0m\n",
      "\u001b[?25hDownloading aiofiles-24.1.0-py3-none-any.whl (15 kB)\n",
      "Downloading groovy-0.1.2-py3-none-any.whl (14 kB)\n",
      "Downloading python_multipart-0.0.20-py3-none-any.whl (24 kB)\n",
      "Downloading ruff-0.11.9-py3-none-manylinux_2_17_x86_64.manylinux2014_x86_64.whl (11.5 MB)\n",
      "\u001b[2K   \u001b[90m━━━━━━━━━━━━━━━━━━━━━━━━━━━━━━━━━━━━━━━━\u001b[0m \u001b[32m11.5/11.5 MB\u001b[0m \u001b[31m84.1 MB/s\u001b[0m eta \u001b[36m0:00:00\u001b[0m\n",
      "\u001b[?25hDownloading safehttpx-0.1.6-py3-none-any.whl (8.7 kB)\n",
      "Downloading semantic_version-2.10.0-py2.py3-none-any.whl (15 kB)\n",
      "Downloading tomlkit-0.13.2-py3-none-any.whl (37 kB)\n",
      "Downloading ffmpy-0.5.0-py3-none-any.whl (6.0 kB)\n",
      "Downloading pydub-0.25.1-py2.py3-none-any.whl (32 kB)\n",
      "Installing collected packages: pydub, tomlkit, semantic-version, ruff, python-multipart, groovy, ffmpy, aiofiles, safehttpx, gradio-client, gradio\n",
      "Successfully installed aiofiles-24.1.0 ffmpy-0.5.0 gradio-5.29.0 gradio-client-1.10.0 groovy-0.1.2 pydub-0.25.1 python-multipart-0.0.20 ruff-0.11.9 safehttpx-0.1.6 semantic-version-2.10.0 tomlkit-0.13.2\n"
     ]
    }
   ],
   "source": [
    "!pip install gradio"
   ]
  },
  {
   "cell_type": "code",
   "execution_count": 15,
   "metadata": {
    "colab": {
     "base_uri": "https://localhost:8080/",
     "height": 1000
    },
    "id": "uJKklaiXg_QR",
    "outputId": "28cb0e95-bcb9-4a33-e36f-22f2686d3432"
   },
   "outputs": [
    {
     "name": "stderr",
     "output_type": "stream",
     "text": [
      "ERROR:asyncio:Task exception was never retrieved\n",
      "future: <Task finished name='Task-1' coro=<Server.serve() done, defined at /usr/local/lib/python3.11/dist-packages/uvicorn/server.py:68> exception=KeyboardInterrupt()>\n",
      "Traceback (most recent call last):\n",
      "  File \"/usr/local/lib/python3.11/dist-packages/uvicorn/main.py\", line 580, in run\n",
      "    server.run()\n",
      "  File \"/usr/local/lib/python3.11/dist-packages/uvicorn/server.py\", line 66, in run\n",
      "    return asyncio.run(self.serve(sockets=sockets))\n",
      "           ^^^^^^^^^^^^^^^^^^^^^^^^^^^^^^^^^^^^^^^^\n",
      "  File \"/usr/local/lib/python3.11/dist-packages/nest_asyncio.py\", line 30, in run\n",
      "    return loop.run_until_complete(task)\n",
      "           ^^^^^^^^^^^^^^^^^^^^^^^^^^^^^\n",
      "  File \"/usr/local/lib/python3.11/dist-packages/nest_asyncio.py\", line 92, in run_until_complete\n",
      "    self._run_once()\n",
      "  File \"/usr/local/lib/python3.11/dist-packages/nest_asyncio.py\", line 133, in _run_once\n",
      "    handle._run()\n",
      "  File \"/usr/lib/python3.11/asyncio/events.py\", line 84, in _run\n",
      "    self._context.run(self._callback, *self._args)\n",
      "  File \"/usr/lib/python3.11/asyncio/tasks.py\", line 360, in __wakeup\n",
      "    self.__step()\n",
      "  File \"/usr/lib/python3.11/asyncio/tasks.py\", line 277, in __step\n",
      "    result = coro.send(None)\n",
      "             ^^^^^^^^^^^^^^^\n",
      "  File \"/usr/local/lib/python3.11/dist-packages/uvicorn/server.py\", line 69, in serve\n",
      "    with self.capture_signals():\n",
      "  File \"/usr/lib/python3.11/contextlib.py\", line 144, in __exit__\n",
      "    next(self.gen)\n",
      "  File \"/usr/local/lib/python3.11/dist-packages/uvicorn/server.py\", line 330, in capture_signals\n",
      "    signal.raise_signal(captured_signal)\n",
      "KeyboardInterrupt\n"
     ]
    },
    {
     "name": "stdout",
     "output_type": "stream",
     "text": [
      "It looks like you are running Gradio on a hosted a Jupyter notebook. For the Gradio app to work, sharing must be enabled. Automatically setting `share=True` (you can turn this off by setting `share=False` in `launch()` explicitly).\n",
      "\n",
      "Colab notebook detected. To show errors in colab notebook, set debug=True in launch()\n",
      "* Running on public URL: https://77de4e31aeae15e57c.gradio.live\n",
      "\n",
      "This share link expires in 1 week. For free permanent hosting and GPU upgrades, run `gradio deploy` from the terminal in the working directory to deploy to Hugging Face Spaces (https://huggingface.co/spaces)\n"
     ]
    },
    {
     "data": {
      "text/html": [
       "<div><iframe src=\"https://77de4e31aeae15e57c.gradio.live\" width=\"100%\" height=\"500\" allow=\"autoplay; camera; microphone; clipboard-read; clipboard-write;\" frameborder=\"0\" allowfullscreen></iframe></div>"
      ],
      "text/plain": [
       "<IPython.core.display.HTML object>"
      ]
     },
     "metadata": {},
     "output_type": "display_data"
    },
    {
     "data": {
      "text/plain": []
     },
     "execution_count": 15,
     "metadata": {},
     "output_type": "execute_result"
    }
   ],
   "source": [
    "import gradio as gr\n",
    "from transformers import AutoTokenizer, AutoModelForSequenceClassification\n",
    "import torch\n",
    "import torch.nn.functional as F\n",
    "import random\n",
    "\n",
    "# Load sentiment model\n",
    "tokenizer = AutoTokenizer.from_pretrained(\"distilbert-base-uncased-finetuned-sst-2-english\")\n",
    "model = AutoModelForSequenceClassification.from_pretrained(\"distilbert-base-uncased-finetuned-sst-2-english\")\n",
    "\n",
    "label_map = {0: \"negative\", 1: \"positive\"}\n",
    "\n",
    "# Simulated tweets\n",
    "tweet_bank = [\n",
    "    \"I love how this phone feels in my hand!\",\n",
    "    \"This update completely broke my app...\",\n",
    "    \"What an amazing performance!\",\n",
    "    \"Worst. Day. Ever.\",\n",
    "    \"Ugh. Delayed again. Thanks, airline.\",\n",
    "    \"Feeling grateful for the little things today.\",\n",
    "    \"I can't believe how good this is.\",\n",
    "    \"Absolutely trash. I'm so disappointed.\",\n",
    "    \"Just made my day 10x better.\",\n",
    "    \"Customer service has been horrible lately.\"\n",
    "]\n",
    "\n",
    "def get_new_sentiments():\n",
    "    history = []\n",
    "    for _ in range(10):\n",
    "        tweet = random.choice(tweet_bank)\n",
    "        inputs = tokenizer(tweet, return_tensors=\"pt\", truncation=True, padding=True)\n",
    "        with torch.no_grad():\n",
    "            outputs = model(**inputs)\n",
    "            probs = F.softmax(outputs.logits, dim=1)\n",
    "            pred_class = torch.argmax(probs, dim=1).item()\n",
    "            confidence = round(probs[0][pred_class].item(), 3)\n",
    "        sentiment = label_map[pred_class]\n",
    "        history.append([tweet, sentiment, f\"{confidence:.2f}\"])\n",
    "    return history[::-1]\n",
    "\n",
    "# Gradio UI — works on Hugging Face Spaces\n",
    "with gr.Blocks() as demo:\n",
    "    gr.Markdown(\"# 📊 Real-Time Sentiment Dashboard\")\n",
    "    gr.Markdown(\"Click the button below to simulate a new batch of tweet sentiment predictions.\")\n",
    "    btn = gr.Button(\"🔁 Refresh\")\n",
    "    output = gr.Dataframe(headers=[\"Tweet\", \"Sentiment\", \"Confidence\"])\n",
    "    btn.click(fn=get_new_sentiments, inputs=[], outputs=output)\n",
    "\n",
    "demo.launch()"
   ]
  },
  {
   "cell_type": "code",
   "execution_count": 5,
   "metadata": {
    "colab": {
     "base_uri": "https://localhost:8080/"
    },
    "id": "Me5e4PFDkh_m",
    "outputId": "43c6601d-9fc0-4f29-ba0e-99d997229b67"
   },
   "outputs": [
    {
     "name": "stdout",
     "output_type": "stream",
     "text": [
      "Authtoken saved to configuration file: /root/.config/ngrok/ngrok.yml\n"
     ]
    }
   ],
   "source": [
    "!ngrok config add-authtoken 2wuu7g07NH6qt1Shhm54khRPnZP_7kHxSskqNqYQmuX6T3vEx"
   ]
  },
  {
   "cell_type": "code",
   "execution_count": 8,
   "metadata": {
    "colab": {
     "base_uri": "https://localhost:8080/"
    },
    "id": "GmRLfMnojBMz",
    "outputId": "2015b3d9-3aa0-4ca1-9046-8abdd3f2084f"
   },
   "outputs": [
    {
     "name": "stdout",
     "output_type": "stream",
     "text": [
      "Your live API is here: NgrokTunnel: \"https://bde8-34-91-9-190.ngrok-free.app\" -> \"http://localhost:8000\"\n"
     ]
    },
    {
     "name": "stderr",
     "output_type": "stream",
     "text": [
      "INFO:     Started server process [5272]\n",
      "INFO:     Waiting for application startup.\n",
      "INFO:     Application startup complete.\n",
      "INFO:     Uvicorn running on http://0.0.0.0:8000 (Press CTRL+C to quit)\n"
     ]
    },
    {
     "name": "stdout",
     "output_type": "stream",
     "text": [
      "INFO:     2603:6010:2100:37e3:8d2b:1f3e:1934:1ebe:0 - \"GET / HTTP/1.1\" 200 OK\n",
      "INFO:     2603:6010:2100:37e3:8d2b:1f3e:1934:1ebe:0 - \"GET /favicon.ico HTTP/1.1\" 404 Not Found\n"
     ]
    },
    {
     "name": "stderr",
     "output_type": "stream",
     "text": [
      "INFO:     Shutting down\n",
      "INFO:     Waiting for application shutdown.\n",
      "INFO:     Application shutdown complete.\n",
      "INFO:     Finished server process [5272]\n"
     ]
    }
   ],
   "source": [
    "from pyngrok import ngrok\n",
    "import nest_asyncio\n",
    "import uvicorn\n",
    "\n",
    "# Apply the asyncio patch for Colab\n",
    "nest_asyncio.apply()\n",
    "\n",
    "# Set up a tunnel to the FastAPI app\n",
    "public_url = ngrok.connect(8000)\n",
    "print(\"Your live API is here:\", public_url)\n",
    "\n",
    "# Launch the app\n",
    "uvicorn.run(app, host=\"0.0.0.0\", port=8000)"
   ]
  },
  {
   "cell_type": "code",
   "execution_count": 11,
   "metadata": {
    "colab": {
     "base_uri": "https://localhost:8080/",
     "height": 17,
     "referenced_widgets": [
      "04890e4330af4bbb8b4d56eb77ef7b45",
      "d7f7d2c6dd26447b85223a2798ddd76d",
      "99e3e87862e64fa99f86fa75c66506e9",
      "432d0bc37f304c2eb10ef03c6e26eacc",
      "aec6a72d364f46e3a37e17d0810a57b9",
      "b2d70b52dfc54fc680070955ba174c9e",
      "ccdd4818bdb64d8db02e47e89eda11ff",
      "2bab0faa65d847d9ae710120d3dfda84",
      "e1de3142792b4d26abc39455733eeb27",
      "50c9c468ea414c30897c583e32a18954",
      "63c4503b330c4090a599799073a7b448",
      "4154f81c85a6410d960d5de1cf02cc0e",
      "c62a12ea3e8d49a3bd427cea634c3436",
      "77f90a6ee84841678f73af4d3f422416",
      "55827b6c2c1d47c880e4179f9f568891",
      "eefa7203a1ff4aa0a854c507a8db489f",
      "605c0f6eaa534b068e387ae34a42687b",
      "baedd9928d6e48e0a07cd7e73107383f",
      "83eb6026106f4a028c6fff088e771560",
      "bacdd173f0cf42d6be8cb053f9baec8a"
     ]
    },
    "id": "8qzBLBCMm8SZ",
    "outputId": "2be4d6a3-43f8-4148-a679-bebc63b24899"
   },
   "outputs": [
    {
     "data": {
      "application/vnd.jupyter.widget-view+json": {
       "model_id": "04890e4330af4bbb8b4d56eb77ef7b45",
       "version_major": 2,
       "version_minor": 0
      },
      "text/plain": [
       "VBox(children=(HTML(value='<center> <img\\nsrc=https://huggingface.co/front/assets/huggingface_logo-noborder.sv…"
      ]
     },
     "metadata": {},
     "output_type": "display_data"
    }
   ],
   "source": [
    "import os\n",
    "from huggingface_hub import HfApi, Repository, whoami, login\n",
    "\n",
    "# Step 1: Login (you'll be prompted to paste your Hugging Face token)\n",
    "login()"
   ]
  },
  {
   "cell_type": "code",
   "execution_count": 16,
   "metadata": {
    "colab": {
     "base_uri": "https://localhost:8080/"
    },
    "id": "dpEIKdxJmkOX",
    "outputId": "f4506c81-456c-4f8e-da35-bc5b4042c4c5"
   },
   "outputs": [
    {
     "name": "stderr",
     "output_type": "stream",
     "text": [
      "/usr/local/lib/python3.11/dist-packages/huggingface_hub/utils/_deprecation.py:131: FutureWarning: 'Repository' (from 'huggingface_hub.repository') is deprecated and will be removed from version '1.0'. Please prefer the http-based alternatives instead. Given its large adoption in legacy code, the complete removal is only planned on next major release.\n",
      "For more details, please read https://huggingface.co/docs/huggingface_hub/concepts/git_vs_http.\n",
      "  warnings.warn(warning_message, FutureWarning)\n",
      "Cloning https://huggingface.co/spaces/zda23/realtime-sentiment-dashboard into local empty directory.\n",
      "WARNING:huggingface_hub.repository:Cloning https://huggingface.co/spaces/zda23/realtime-sentiment-dashboard into local empty directory.\n",
      "To https://huggingface.co/spaces/zda23/realtime-sentiment-dashboard\n",
      "   22bf19b..a4a0d49  main -> main\n",
      "\n",
      "WARNING:huggingface_hub.repository:To https://huggingface.co/spaces/zda23/realtime-sentiment-dashboard\n",
      "   22bf19b..a4a0d49  main -> main\n",
      "\n"
     ]
    },
    {
     "name": "stdout",
     "output_type": "stream",
     "text": [
      "🎉 Deployed! Your Space is live at: https://huggingface.co/spaces/zda23/realtime-sentiment-dashboard\n"
     ]
    }
   ],
   "source": [
    "# Step 2: Config\n",
    "SPACE_NAME = \"realtime-sentiment-dashboard\"\n",
    "api = HfApi()\n",
    "username = whoami()[\"name\"]\n",
    "full_repo_name = f\"{username}/{SPACE_NAME}\"\n",
    "\n",
    "# Step 3: Create the Space if it doesn't exist\n",
    "repo_url = api.create_repo(\n",
    "    repo_id=full_repo_name,\n",
    "    repo_type=\"space\",\n",
    "    space_sdk=\"gradio\",\n",
    "    exist_ok=True\n",
    ")\n",
    "\n",
    "# Step 4: Clone the empty repo into a fresh directory\n",
    "LOCAL_DIR = \"./sentiment_dashboard\"\n",
    "if os.path.exists(LOCAL_DIR):\n",
    "    import shutil\n",
    "    shutil.rmtree(LOCAL_DIR)\n",
    "\n",
    "repo = Repository(\n",
    "    local_dir=LOCAL_DIR,\n",
    "    clone_from=repo_url\n",
    ")\n",
    "\n",
    "# Step 5: Write app.py\n",
    "with open(os.path.join(LOCAL_DIR, \"app.py\"), \"w\") as f:\n",
    "    f.write(\"\"\"\\\n",
    "import gradio as gr\n",
    "from transformers import AutoTokenizer, AutoModelForSequenceClassification\n",
    "import torch\n",
    "import torch.nn.functional as F\n",
    "import random\n",
    "\n",
    "# Load sentiment model\n",
    "tokenizer = AutoTokenizer.from_pretrained(\"distilbert-base-uncased-finetuned-sst-2-english\")\n",
    "model = AutoModelForSequenceClassification.from_pretrained(\"distilbert-base-uncased-finetuned-sst-2-english\")\n",
    "\n",
    "label_map = {0: \"negative\", 1: \"positive\"}\n",
    "tweet_bank = [\n",
    "    \"I love how this phone feels in my hand!\",\n",
    "    \"This update completely broke my app...\",\n",
    "    \"What an amazing performance!\",\n",
    "    \"Worst. Day. Ever.\",\n",
    "    \"Ugh. Delayed again. Thanks, airline.\",\n",
    "    \"Feeling grateful for the little things today.\",\n",
    "    \"Absolutely trash. I'm so disappointed.\",\n",
    "    \"Just made my day 10x better.\",\n",
    "    \"Customer service has been horrible lately.\"\n",
    "]\n",
    "\n",
    "def get_new_sentiments():\n",
    "    history = []\n",
    "    for _ in range(10):\n",
    "        tweet = random.choice(tweet_bank)\n",
    "        inputs = tokenizer(tweet, return_tensors=\"pt\", truncation=True, padding=True)\n",
    "        with torch.no_grad():\n",
    "            outputs = model(**inputs)\n",
    "            probs = F.softmax(outputs.logits, dim=1)\n",
    "            pred_class = torch.argmax(probs, dim=1).item()\n",
    "            confidence = round(probs[0][pred_class].item(), 3)\n",
    "        sentiment = label_map[pred_class]\n",
    "        history.append([tweet, sentiment, f\"{confidence:.2f}\"])\n",
    "    return history[::-1]\n",
    "\n",
    "with gr.Blocks() as demo:\n",
    "    gr.Markdown(\"# 📊 Real-Time Sentiment Dashboard\")\n",
    "    gr.Markdown(\"Click the button below to simulate a new batch of tweet sentiment predictions.\")\n",
    "    btn = gr.Button(\"🔁 Refresh\")\n",
    "    output = gr.Dataframe(headers=[\"Tweet\", \"Sentiment\", \"Confidence\"])\n",
    "    btn.click(fn=get_new_sentiments, inputs=[], outputs=output)\n",
    "\n",
    "demo.launch()\n",
    "\"\"\")\n",
    "\n",
    "# Step 6: Write requirements.txt\n",
    "with open(os.path.join(LOCAL_DIR, \"requirements.txt\"), \"w\") as f:\n",
    "    f.write(\"transformers\\ntorch\\ngradio\\n\")\n",
    "\n",
    "# Step 7: Push to Hugging Face\n",
    "repo.push_to_hub(commit_message=\"🚀 Deploy real-time sentiment dashboard\")\n",
    "print(f\"🎉 Deployed! Your Space is live at: https://huggingface.co/spaces/{full_repo_name}\")\n"
   ]
  }
 ],
 "metadata": {
  "colab": {
   "provenance": []
  },
  "kernelspec": {
   "display_name": "Python 3",
   "name": "python3"
  },
  "language_info": {
   "name": "python"
  }
 },
 "nbformat": 4,
 "nbformat_minor": 0
}
